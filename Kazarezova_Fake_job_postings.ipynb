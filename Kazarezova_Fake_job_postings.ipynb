{
 "cells": [
  {
   "cell_type": "code",
   "execution_count": 1,
   "metadata": {
    "scrolled": false
   },
   "outputs": [
    {
     "ename": "SyntaxError",
     "evalue": "invalid syntax (<ipython-input-1-9161a9a5eaaf>, line 2)",
     "output_type": "error",
     "traceback": [
      "\u001b[1;36m  File \u001b[1;32m\"<ipython-input-1-9161a9a5eaaf>\"\u001b[1;36m, line \u001b[1;32m2\u001b[0m\n\u001b[1;33m    pip install ludwig\u001b[0m\n\u001b[1;37m              ^\u001b[0m\n\u001b[1;31mSyntaxError\u001b[0m\u001b[1;31m:\u001b[0m invalid syntax\n"
     ]
    }
   ],
   "source": [
    "#Устанавливаем библиотеку Ludwig\n",
    "pip install ludwig\n"
   ]
  },
  {
   "cell_type": "code",
   "execution_count": 38,
   "metadata": {},
   "outputs": [
    {
     "ename": "NameError",
     "evalue": "name 'modeldef' is not defined",
     "output_type": "error",
     "traceback": [
      "\u001b[1;31m---------------------------------------------------------------------------\u001b[0m",
      "\u001b[1;31mNameError\u001b[0m                                 Traceback (most recent call last)",
      "\u001b[1;32m<ipython-input-38-5ba3ce9828d0>\u001b[0m in \u001b[0;36m<module>\u001b[1;34m\u001b[0m\n\u001b[0;32m     12\u001b[0m \u001b[1;31m#Указываем, на основе чего и что надо предсказывать\u001b[0m\u001b[1;33m\u001b[0m\u001b[1;33m\u001b[0m\u001b[1;33m\u001b[0m\u001b[0m\n\u001b[0;32m     13\u001b[0m \u001b[0mmyFile\u001b[0m \u001b[1;33m=\u001b[0m \u001b[0mopen\u001b[0m\u001b[1;33m(\u001b[0m\u001b[1;34m\"modeldef.yaml\"\u001b[0m\u001b[1;33m,\u001b[0m \u001b[1;34m\"w+\"\u001b[0m\u001b[1;33m)\u001b[0m \u001b[1;31m#Для этого создаём файл modeldef.yaml\u001b[0m\u001b[1;33m\u001b[0m\u001b[1;33m\u001b[0m\u001b[0m\n\u001b[1;32m---> 14\u001b[1;33m modeldef.yaml.load('''input_features:\n\u001b[0m\u001b[0;32m     15\u001b[0m     \u001b[1;33m-\u001b[0m\u001b[1;33m\u001b[0m\u001b[1;33m\u001b[0m\u001b[0m\n\u001b[0;32m     16\u001b[0m         \u001b[0mname\u001b[0m\u001b[1;33m:\u001b[0m \u001b[0mtitle\u001b[0m\u001b[1;33m\u001b[0m\u001b[1;33m\u001b[0m\u001b[0m\n",
      "\u001b[1;31mNameError\u001b[0m: name 'modeldef' is not defined"
     ]
    }
   ],
   "source": [
    "#Импортируем библиотеки\n",
    "from ludwig.api import LudwigModel\n",
    "import os\n",
    "import logging\n",
    "import shutil\n",
    "\n",
    "#Открываем датасет\n",
    "mr=pd.read_csv('fake_job_postings.csv')\n",
    "#Смотрим на первые несколько строк\n",
    "mr.head()\n",
    "\n",
    "#Указываем, на основе чего и что надо предсказывать\n",
    "myFile = open(\"modeldef.yaml\", \"w+\") #Для этого создаём файл modeldef.yaml\n",
    "modeldef.yaml.load('''input_features:\n",
    "    - \n",
    "        name: title\n",
    "        type: text\n",
    "    - \n",
    "        name: location\n",
    "        type: text\n",
    "    - \n",
    "        name: department\n",
    "        type: text\n",
    "    - \n",
    "        name: salary_range\n",
    "        type: text\n",
    "    - \n",
    "        name: company_profile\n",
    "        type: text\n",
    "    - \n",
    "        name: description\n",
    "        type: text\n",
    "    - \n",
    "        name: requirements\n",
    "        type: text\n",
    "    -\n",
    "        name: benefits\n",
    "        type: text\n",
    "    - \n",
    "        name: telecommuting\n",
    "        type: category\n",
    "    - \n",
    "        name: has_company_logo\n",
    "        type: category\n",
    "    - \n",
    "        name: has_questions\n",
    "        type: category\n",
    "    - \n",
    "        name: employment_type\n",
    "        type: text\n",
    "    - \n",
    "        name: required_experience\n",
    "        type: text\n",
    "    - \n",
    "        name: required_education\n",
    "        type: text\n",
    "    - \n",
    "        name: industry\n",
    "        type: text\n",
    "    - \n",
    "        name: function\n",
    "        type: text\n",
    "        \n",
    "output_features:\n",
    "    - \n",
    "        name: fraudulent\n",
    "        type: category''')\n",
    "\n",
    "#Создание и тренировка модели\n",
    "metadata = pd.DataFrame(pd.read_csv('fake_job_postings.csv'))\n",
    "model = LudwigModel(model_definition_file='modeldef.yaml')\n",
    "train = model.train(metadata)\n",
    "\n",
    "#Предсказывание\n",
    "predictions = model.predict(data)\n",
    "\n",
    "#Можно построить графики, показывающие, как прошла тренировка модели\n",
    "learning_curves = create_plot_ready_data(model)"
   ]
  },
  {
   "cell_type": "code",
   "execution_count": null,
   "metadata": {},
   "outputs": [],
   "source": []
  }
 ],
 "metadata": {
  "kernelspec": {
   "display_name": "Python 3",
   "language": "python",
   "name": "python3"
  },
  "language_info": {
   "codemirror_mode": {
    "name": "ipython",
    "version": 3
   },
   "file_extension": ".py",
   "mimetype": "text/x-python",
   "name": "python",
   "nbconvert_exporter": "python",
   "pygments_lexer": "ipython3",
   "version": "3.7.4"
  }
 },
 "nbformat": 4,
 "nbformat_minor": 2
}
